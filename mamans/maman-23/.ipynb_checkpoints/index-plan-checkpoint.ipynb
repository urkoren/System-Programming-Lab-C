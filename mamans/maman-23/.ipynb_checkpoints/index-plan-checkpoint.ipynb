{
 "cells": [
  {
   "cell_type": "markdown",
   "id": "6e60cc7c-3bcc-48ab-8777-1c657af0b5e9",
   "metadata": {},
   "source": [
    "# Indexing a File "
   ]
  },
  {
   "cell_type": "markdown",
   "id": "3b7155e8-7c63-4f05-a9a4-b13825aca794",
   "metadata": {},
   "source": [
    "## Goal\n",
    "\n",
    "Given a filepath, pointing to a file with 0 or more lines, where each line contains 0 or more words, we require to create a index-table where the index is a word which appeared one or more times in the file, and the value of that index is the lines in which the word appeared in our file."
   ]
  },
  {
   "cell_type": "markdown",
   "id": "df51616a-33e1-4e43-b0f6-cafd53c453d8",
   "metadata": {},
   "source": [
    "## Our Inputs\n",
    "\n",
    "File containing words and spaces\n"
   ]
  },
  {
   "cell_type": "markdown",
   "id": "bce15d8b-5a02-4adc-af06-2cd7a656124f",
   "metadata": {},
   "source": [
    "## Our Outputs\n",
    "An Index-Table, sorted lexicographically. The index is a word, the value are the lines where the word appeared <br>\n",
    "(\"Word\" : Line Appearances )"
   ]
  },
  {
   "cell_type": "markdown",
   "id": "9a075e09-a1c8-4bb3-9df6-b2699a962621",
   "metadata": {},
   "source": [
    "## The File Index"
   ]
  },
  {
   "cell_type": "markdown",
   "id": "2484deb7-16af-49de-9662-593a84c56b60",
   "metadata": {},
   "source": [
    "### Description:\n",
    "\n",
    "A file index is built out of the following\n",
    "1. It contains ___data items___ of Key-Value pairs, where the key is a word which appears one or more times in the file, and the value is the lines where the word appears in the file\n",
    "2. Its ___Data Items___ are sorted lexicographically according to the ___Data Item___'s key"
   ]
  },
  {
   "cell_type": "markdown",
   "id": "6f974494-b9ae-4ff1-919c-3175ab366f84",
   "metadata": {},
   "source": [
    "### General Requirements"
   ]
  },
  {
   "cell_type": "markdown",
   "id": "7cf157c3-dc19-4fa7-b6f5-b917aa63c6f5",
   "metadata": {},
   "source": [
    "#### File Index Scope\n",
    "    \n",
    "1. create an empty index\n",
    "2. destroy an index\n",
    "3. add an item to the index\n",
    "4. search for an item in the index\n",
    "5. modify an existing item in the index\n",
    "6. print an index\n"
   ]
  },
  {
   "cell_type": "markdown",
   "id": "8a5f9415-edaa-41f8-a9ce-78f32aff3fa7",
   "metadata": {},
   "source": [
    "#### Data Item Scope\n",
    "    \n",
    "1. create an item\n",
    "2. destroy an item\n",
    "3. set an item's key\n",
    "4. set an item's value\n",
    "5. get an item's key\n",
    "6. get an item's value\n",
    "7. modify an item's value\n",
    "8. compare two items by their key\n",
    "9. compare two items by their value\n",
    "10. print an item\n",
    "  "
   ]
  },
  {
   "cell_type": "markdown",
   "id": "0482dbe2-9dc6-4d4b-b458-f2f6ff11b5ad",
   "metadata": {},
   "source": [
    "### General Flow Plan"
   ]
  },
  {
   "cell_type": "markdown",
   "id": "5ff30ef0-3773-49e6-816e-18cb4796dd9e",
   "metadata": {},
   "source": [
    "#### Prepare\n",
    "\n",
    "1. Get the filepath from the list of paths\n",
    "2. Make sure that the file exists\n",
    "3. Create an empty index\n",
    "4. Open the file\n",
    "\n",
    "\n",
    "#### Read\n",
    "1. Get the next line from the file and save it into a buffer\n",
    "2. Increase the line counter by one\n",
    "3. If EOF was reached:\n",
    "    - Go to step 1 of [Finalize](#Finalize)\n",
    "4. Continue to [Tokenize](#Tokenize)\n",
    "\n",
    "\n",
    "#### Tokenize\n",
    "1. Skip all whitespaces until reaching a character\n",
    "2. If the line buffer is empty:\n",
    "    - Go back to step 1 of [Read](#Read).\n",
    "3. Save all non-whitespace characters into a buffer until reaching the next whitespace\n",
    "4. Search the item with the word as its key in the index\n",
    "5. If an item was found:\n",
    "    - if the line number does not exist in the item's values, add it to its values\n",
    "6. If the item does not exist:\n",
    "    - Create a new item and add it to the index\n",
    "7. Go back to step 1 of [Tokenize](#Tokenize)\n",
    "\n",
    "\n",
    "#### Finalize\n",
    "1. Print the final index\n",
    "2. Free any allocated memory (items, index, etc.)\n",
    "3. close any open file descriptors.\n",
    "4. Go back to step 1 of [Prepare](#Prepare)"
   ]
  },
  {
   "cell_type": "code",
   "execution_count": null,
   "id": "fdc71be4-d726-453a-9b46-3d053996d65a",
   "metadata": {},
   "outputs": [],
   "source": []
  }
 ],
 "metadata": {
  "kernelspec": {
   "display_name": "Python 3 (ipykernel)",
   "language": "python",
   "name": "python3"
  },
  "language_info": {
   "codemirror_mode": {
    "name": "ipython",
    "version": 3
   },
   "file_extension": ".py",
   "mimetype": "text/x-python",
   "name": "python",
   "nbconvert_exporter": "python",
   "pygments_lexer": "ipython3",
   "version": "3.12.1"
  }
 },
 "nbformat": 4,
 "nbformat_minor": 5
}
